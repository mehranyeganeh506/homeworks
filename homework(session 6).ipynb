{
 "cells": [
  {
   "cell_type": "code",
   "execution_count": 117,
   "metadata": {},
   "outputs": [
    {
     "data": {
      "text/plain": [
       "{'a': 400, 'd': 400, 'b': 400, 'c': 300}"
      ]
     },
     "execution_count": 117,
     "metadata": {},
     "output_type": "execute_result"
    }
   ],
   "source": [
    "#1\n",
    "d1 = {'a':100,'b':200,'c':300}\n",
    "d2 = {'a':300,'b':200,'d':400}\n",
    "m = {}\n",
    "a = {}\n",
    "for i in d1 :\n",
    "    for j in d2 :\n",
    "        if i == j :\n",
    "            m[i] = d1.get(i) + d2.get(j)\n",
    "        if i not in d2 :\n",
    "            m[i] = d1[i]\n",
    "        if j not in d1 :\n",
    "            m[j] = d2[j]\n",
    "m"
   ]
  },
  {
   "cell_type": "code",
   "execution_count": 11,
   "metadata": {},
   "outputs": [],
   "source": [
    "#2\n",
    "people = [(\"Ali\",25),(\"Mina\",30),(\"Reza\",25),(\"sara\",30)]\n",
    "a = list(people)\n",
    "age = []\n",
    "c = 0\n",
    "for i in a :\n",
    "    age.append(a[c][1])\n",
    "    c += 1\n",
    "set(age)"
   ]
  },
  {
   "cell_type": "code",
   "execution_count": 14,
   "metadata": {},
   "outputs": [
    {
     "data": {
      "text/plain": [
       "{25: 2, 30: 2}"
      ]
     },
     "execution_count": 14,
     "metadata": {},
     "output_type": "execute_result"
    }
   ],
   "source": [
    "d = {}\n",
    "for item in age :\n",
    "    d[item] =age.count(item)  \n",
    "d"
   ]
  },
  {
   "cell_type": "code",
   "execution_count": 72,
   "metadata": {},
   "outputs": [
    {
     "data": {
      "text/plain": [
       "['Ali', 'Reza', 'sara']"
      ]
     },
     "execution_count": 72,
     "metadata": {},
     "output_type": "execute_result"
    }
   ],
   "source": [
    "g = []\n",
    "c = 0\n",
    "m =sorted(list(age))\n",
    "for i in a :\n",
    "    if (i[1]) == m[c] :\n",
    "        g.append(i[0])\n",
    "        c += 1\n",
    "g"
   ]
  },
  {
   "cell_type": "code",
   "execution_count": 70,
   "metadata": {},
   "outputs": [
    {
     "data": {
      "text/plain": [
       "[{'name': 'Mina', 'age': 30}, {'name': 'Sara', 'age': 28}]"
      ]
     },
     "execution_count": 70,
     "metadata": {},
     "output_type": "execute_result"
    }
   ],
   "source": [
    "#3\n",
    "people = [{'name': \"Ali\",\"age\": 23},{'name': \"Mina\",\"age\": 30},{'name': \"Reza\",\"age\": 25},{'name': \"Sara\",\"age\": 28}]\n",
    "c = 0\n",
    "f = []\n",
    "for i in people:\n",
    "    t = people[c].get(\"age\")\n",
    "    c += 1\n",
    "    if t > 25 :\n",
    "        f.append(i)\n",
    "f"
   ]
  },
  {
   "cell_type": "code",
   "execution_count": 76,
   "metadata": {},
   "outputs": [
    {
     "data": {
      "text/plain": [
       "{1, 2, 3, 4, 5}"
      ]
     },
     "execution_count": 76,
     "metadata": {},
     "output_type": "execute_result"
    }
   ],
   "source": [
    "#4\n",
    "nested_list = [[1,2,3],[2,3,4],[3,4,5]]\n",
    "w = []\n",
    "for i in nested_list:\n",
    "    for j in i :\n",
    "        w.append(j)\n",
    "set(w)"
   ]
  },
  {
   "cell_type": "code",
   "execution_count": 110,
   "metadata": {},
   "outputs": [
    {
     "data": {
      "text/plain": [
       "{5: 'apple', 3: 'dog', 4: 'book', 6: 'python'}"
      ]
     },
     "execution_count": 110,
     "metadata": {},
     "output_type": "execute_result"
    }
   ],
   "source": [
    "#5\n",
    "words = [\"apple\",\"cat\",\"dog\",\"book\",\"python\"]\n",
    "R = {}\n",
    "Y = {}\n",
    "for char in words :\n",
    "    R[char] = len(char)\n",
    "for k,v in R.items():\n",
    "    Y[v] = k\n",
    "Y"
   ]
  }
 ],
 "metadata": {
  "kernelspec": {
   "display_name": "Python 3",
   "language": "python",
   "name": "python3"
  },
  "language_info": {
   "codemirror_mode": {
    "name": "ipython",
    "version": 3
   },
   "file_extension": ".py",
   "mimetype": "text/x-python",
   "name": "python",
   "nbconvert_exporter": "python",
   "pygments_lexer": "ipython3",
   "version": "3.10.10"
  }
 },
 "nbformat": 4,
 "nbformat_minor": 2
}
